{
 "cells": [
  {
   "cell_type": "code",
   "execution_count": 42,
   "metadata": {},
   "outputs": [
    {
     "name": "stdout",
     "output_type": "stream",
     "text": [
      "   YEAR  MO  DY  HR  TEMP  PRCP   HMDT  WND_SPD  ATM_PRESS     REF\n",
      "0  2021   3  31  18  2.87   0.0  59.62     7.72     100.30  202103\n",
      "1  2021   3  31  19  2.68   0.0  62.12     7.64     100.38  202103\n",
      "2  2021   3  31  20  2.34   0.0  66.19     7.88     100.44  202103\n",
      "3  2021   3  31  21  1.88   0.0  69.12     8.09     100.48  202103\n",
      "4  2021   3  31  22  1.54   0.0  67.50     8.28     100.52  202103\n"
     ]
    }
   ],
   "source": [
    "import pandas as pd\n",
    "\n",
    "# Load the dataset\n",
    "df = pd.read_csv('/Users/abhik/Downloads/data.csv')\n",
    "\n",
    "# Display the first few rows of the dataset\n",
    "print(df.head())\n"
   ]
  },
  {
   "cell_type": "code",
   "execution_count": 43,
   "metadata": {},
   "outputs": [
    {
     "name": "stdout",
     "output_type": "stream",
     "text": [
      "   YEAR  MO  DY  HR  TEMP  PRCP   HMDT  WND_SPD  ATM_PRESS     REF  RAIN  \\\n",
      "0  2021   3  31  18  2.87   0.0  59.62     7.72     100.30  202103     0   \n",
      "1  2021   3  31  19  2.68   0.0  62.12     7.64     100.38  202103     0   \n",
      "2  2021   3  31  20  2.34   0.0  66.19     7.88     100.44  202103     0   \n",
      "3  2021   3  31  21  1.88   0.0  69.12     8.09     100.48  202103     0   \n",
      "4  2021   3  31  22  1.54   0.0  67.50     8.28     100.52  202103     0   \n",
      "\n",
      "  WEATHER_CONDITION  \n",
      "0             windy  \n",
      "1             windy  \n",
      "2             windy  \n",
      "3             windy  \n",
      "4             windy  \n"
     ]
    }
   ],
   "source": [
    "# Convert PRCP column to binary (1 for rain, 0 for no rain)\n",
    "df['RAIN'] = (df['PRCP'] > 0).astype(int)\n",
    "\n",
    "# Define function to classify weather conditions\n",
    "def classify_weather(row):\n",
    "    if row['RAIN'] == 1:\n",
    "        return 'rainy'\n",
    "    elif row['TEMP'] <= 1:\n",
    "        return 'cold'\n",
    "    elif row['WND_SPD'] > 4:\n",
    "        return 'windy'\n",
    "    else:\n",
    "        return 'sunny'\n",
    "\n",
    "# Apply the function to create a new column for weather conditions\n",
    "df['WEATHER_CONDITION'] = df.apply(classify_weather, axis=1)\n",
    "\n",
    "# Display the updated DataFrame\n",
    "print(df.head())\n"
   ]
  },
  {
   "cell_type": "code",
   "execution_count": 44,
   "metadata": {},
   "outputs": [
    {
     "name": "stdout",
     "output_type": "stream",
     "text": [
      "WEATHER_CONDITION\n",
      "windy    8551\n",
      "rainy    8139\n",
      "sunny    4968\n",
      "cold     2450\n",
      "Name: count, dtype: int64\n"
     ]
    }
   ],
   "source": [
    "# Count the number of occurrences of each weather condition\n",
    "weather_counts = df['WEATHER_CONDITION'].value_counts()\n",
    "\n",
    "# Display the counts\n",
    "print(weather_counts)\n"
   ]
  },
  {
   "cell_type": "code",
   "execution_count": 45,
   "metadata": {},
   "outputs": [],
   "source": [
    "import pandas as pd\n",
    "import numpy as np\n",
    "\n",
    "# Assuming df is your DataFrame containing the dataset\n",
    "# Generate synthetic data points for \"sunny\"\n",
    "snowy = df[df['WEATHER_CONDITION'] == 'cold'].sample(n=1000, replace=True)\n",
    "\n",
    "# Concatenate the additional data points with the original dataset\n",
    "df = pd.concat([df, snowy], ignore_index=True)\n"
   ]
  },
  {
   "cell_type": "code",
   "execution_count": 46,
   "metadata": {},
   "outputs": [
    {
     "name": "stdout",
     "output_type": "stream",
     "text": [
      "WEATHER_CONDITION\n",
      "windy    8551\n",
      "rainy    8139\n",
      "sunny    4968\n",
      "cold     3450\n",
      "Name: count, dtype: int64\n"
     ]
    }
   ],
   "source": [
    "# Count the number of occurrences of each weather condition\n",
    "weather_counts = df['WEATHER_CONDITION'].value_counts()\n",
    "\n",
    "# Display the counts\n",
    "print(weather_counts)\n"
   ]
  },
  {
   "cell_type": "code",
   "execution_count": 47,
   "metadata": {},
   "outputs": [
    {
     "name": "stdout",
     "output_type": "stream",
     "text": [
      "WEATHER_CONDITION_BALANCED\n",
      "windy    8551\n",
      "rainy    8139\n",
      "sunny    4968\n",
      "cold     3450\n",
      "Name: count, dtype: int64\n"
     ]
    }
   ],
   "source": [
    "def classify_weather_balanced(row):\n",
    "    if row['RAIN'] == 1:\n",
    "        return 'rainy'\n",
    "    elif row['TEMP'] <= 1 and row['RAIN'] == 0:\n",
    "        return 'cold'\n",
    "    elif row['WND_SPD'] > 4 and row['RAIN'] == 0:\n",
    "        return 'windy'\n",
    "    elif row['TEMP'] > 1 and row['RAIN'] == 0:\n",
    "        return 'sunny'\n",
    "    else:\n",
    "        return 'snowy'\n",
    "\n",
    "# Apply the function to create a new column for weather conditions\n",
    "df['WEATHER_CONDITION_BALANCED'] = df.apply(classify_weather_balanced, axis=1)\n",
    "\n",
    "# Display the updated DataFrame\n",
    "print(df['WEATHER_CONDITION_BALANCED'].value_counts())"
   ]
  },
  {
   "cell_type": "code",
   "execution_count": 48,
   "metadata": {},
   "outputs": [
    {
     "name": "stdout",
     "output_type": "stream",
     "text": [
      "Accuracy: 0.6704500199123855\n"
     ]
    }
   ],
   "source": [
    "from sklearn.model_selection import train_test_split\n",
    "from sklearn.linear_model import LogisticRegression\n",
    "from sklearn.metrics import accuracy_score\n",
    "\n",
    "# Select features and target variable\n",
    "X = df[['TEMP', 'HMDT', 'WND_SPD']]\n",
    "y = df['WEATHER_CONDITION']\n",
    "\n",
    "# Split the data into training and testing sets (80% training, 20% testing)\n",
    "X_train, X_test, y_train, y_test = train_test_split(X, y, test_size=0.2, random_state=42)\n",
    "\n",
    "# Initialize and train a Logistic Regression model\n",
    "model = LogisticRegression(max_iter=10000)\n",
    "model.fit(X_train, y_train)\n",
    "\n",
    "# Make predictions on the test set\n",
    "y_pred = model.predict(X_test)\n",
    "\n",
    "# Evaluate the model\n",
    "accuracy = accuracy_score(y_test, y_pred)\n",
    "print(f\"Accuracy: {accuracy}\")\n"
   ]
  },
  {
   "cell_type": "code",
   "execution_count": 49,
   "metadata": {},
   "outputs": [
    {
     "name": "stdout",
     "output_type": "stream",
     "text": [
      "Decision Tree Accuracy: 0.7158502588610115\n",
      "Random Forest Accuracy: 0.764436479490243\n"
     ]
    }
   ],
   "source": [
    "from sklearn.tree import DecisionTreeClassifier\n",
    "from sklearn.ensemble import RandomForestClassifier\n",
    "from sklearn.metrics import accuracy_score\n",
    "from sklearn.model_selection import train_test_split\n",
    "\n",
    "# Select features and target variable\n",
    "X = df[['TEMP', 'HMDT', 'WND_SPD']]\n",
    "y = df['WEATHER_CONDITION']\n",
    "\n",
    "# Split the data into training and testing sets (80% training, 20% testing)\n",
    "X_train, X_test, y_train, y_test = train_test_split(X, y, test_size=0.2, random_state=42)\n",
    "\n",
    "# Initialize and train a Decision Tree classifier\n",
    "dt_model = DecisionTreeClassifier(random_state=42)\n",
    "dt_model.fit(X_train, y_train)\n",
    "\n",
    "# Make predictions on the test set\n",
    "dt_y_pred = dt_model.predict(X_test)\n",
    "\n",
    "# Evaluate the Decision Tree model\n",
    "dt_accuracy = accuracy_score(y_test, dt_y_pred)\n",
    "print(f\"Decision Tree Accuracy: {dt_accuracy}\")\n",
    "\n",
    "# Initialize and train a Random Forest classifier\n",
    "rf_model = RandomForestClassifier(random_state=42)\n",
    "rf_model.fit(X_train, y_train)\n",
    "\n",
    "# Make predictions on the test set\n",
    "rf_y_pred = rf_model.predict(X_test)\n",
    "\n",
    "# Evaluate the Random Forest model\n",
    "rf_accuracy = accuracy_score(y_test, rf_y_pred)\n",
    "print(f\"Random Forest Accuracy: {rf_accuracy}\")\n"
   ]
  },
  {
   "cell_type": "code",
   "execution_count": 50,
   "metadata": {},
   "outputs": [
    {
     "name": "stdout",
     "output_type": "stream",
     "text": [
      "SVM Accuracy: 0.6917562724014337\n"
     ]
    }
   ],
   "source": [
    "from sklearn.svm import SVC\n",
    "from sklearn.metrics import accuracy_score\n",
    "from sklearn.model_selection import train_test_split\n",
    "\n",
    "# Select features and target variable\n",
    "X = df[['TEMP', 'HMDT', 'WND_SPD']]\n",
    "y = df['WEATHER_CONDITION']\n",
    "\n",
    "# Split the data into training and testing sets (80% training, 20% testing)\n",
    "X_train, X_test, y_train, y_test = train_test_split(X, y, test_size=0.2, random_state=42)\n",
    "\n",
    "# Initialize and train an SVM classifier\n",
    "svm_model = SVC(kernel='linear', random_state=42)\n",
    "svm_model.fit(X_train, y_train)\n",
    "\n",
    "# Make predictions on the test set\n",
    "y_pred = svm_model.predict(X_test)\n",
    "\n",
    "# Evaluate the SVM model\n",
    "accuracy = accuracy_score(y_test, y_pred)\n",
    "print(f\"SVM Accuracy: {accuracy}\")\n"
   ]
  },
  {
   "cell_type": "code",
   "execution_count": 51,
   "metadata": {},
   "outputs": [
    {
     "name": "stdout",
     "output_type": "stream",
     "text": [
      "Naive Bayes Accuracy: 0.6730386300278773\n"
     ]
    }
   ],
   "source": [
    "from sklearn.model_selection import train_test_split\n",
    "from sklearn.preprocessing import StandardScaler\n",
    "from sklearn.naive_bayes import GaussianNB\n",
    "from sklearn.metrics import accuracy_score\n",
    "\n",
    "# Select features and target variable\n",
    "X = df[['TEMP', 'HMDT', 'WND_SPD']]\n",
    "y = df['WEATHER_CONDITION_BALANCED']\n",
    "\n",
    "# Standardize features\n",
    "scaler = StandardScaler()\n",
    "X_scaled = scaler.fit_transform(X)\n",
    "\n",
    "# Split the data into training and testing sets (80% training, 20% testing)\n",
    "X_train, X_test, y_train, y_test = train_test_split(X_scaled, y, test_size=0.2, random_state=42)\n",
    "\n",
    "# Initialize and train the Gaussian Naive Bayes classifier\n",
    "nb_model = GaussianNB()\n",
    "nb_model.fit(X_train, y_train)\n",
    "\n",
    "# Make predictions on the test set\n",
    "y_pred = nb_model.predict(X_test)\n",
    "\n",
    "# Calculate the accuracy of the model\n",
    "accuracy = accuracy_score(y_test, y_pred)\n",
    "print(f\"Naive Bayes Accuracy: {accuracy}\")\n"
   ]
  }
 ],
 "metadata": {
  "kernelspec": {
   "display_name": "base",
   "language": "python",
   "name": "python3"
  },
  "language_info": {
   "codemirror_mode": {
    "name": "ipython",
    "version": 3
   },
   "file_extension": ".py",
   "mimetype": "text/x-python",
   "name": "python",
   "nbconvert_exporter": "python",
   "pygments_lexer": "ipython3",
   "version": "3.11.7"
  }
 },
 "nbformat": 4,
 "nbformat_minor": 2
}
